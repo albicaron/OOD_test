{
 "cells": [
  {
   "cell_type": "markdown",
   "source": [
    "# OOD Detection on the MNIST and Fashion-MNIST Dataset"
   ],
   "metadata": {
    "collapsed": false
   },
   "id": "b3e50f2146876630"
  },
  {
   "cell_type": "markdown",
   "source": [
    "## Introduction\n",
    "\n",
    "First we import the necessary libraries."
   ],
   "metadata": {
    "collapsed": false
   },
   "id": "f84b14d75a428477"
  },
  {
   "cell_type": "code",
   "execution_count": 23,
   "outputs": [],
   "source": [
    "import numpy as np\n",
    "import torch\n",
    "from torchvision import datasets, transforms\n",
    "from torch.utils.data import random_split, DataLoader\n",
    "import torch.nn.functional as F\n",
    "import torch.nn as nn\n",
    "from torchvision.models import resnet18"
   ],
   "metadata": {
    "collapsed": false,
    "ExecuteTime": {
     "end_time": "2024-05-01T14:35:18.240609Z",
     "start_time": "2024-05-01T14:35:18.219112Z"
    }
   },
   "id": "19856fc77fa36340"
  },
  {
   "cell_type": "markdown",
   "source": [
    "Load the MNIST dataset and create a subsample of the dataset."
   ],
   "metadata": {
    "collapsed": false
   },
   "id": "5d0d2f1971ffd315"
  },
  {
   "cell_type": "code",
   "execution_count": 24,
   "outputs": [
    {
     "name": "stdout",
     "output_type": "stream",
     "text": [
      "Train size: 8000, Test size: 2000\n",
      "Unique labels in the training set:  [0 1 2 3 4 5 6 7 8 9]\n",
      "Average prevalence of each class in the training set: [0.099625 0.107875 0.1015   0.10375  0.099375 0.090125 0.096375 0.104375\n",
      " 0.098    0.099   ]\n"
     ]
    }
   ],
   "source": [
    "# Set seed for reproducibility\n",
    "torch.manual_seed(42)\n",
    "np.random.seed(42)\n",
    "\n",
    "# Load MNIST dataset\n",
    "mnist = datasets.MNIST(root='.', download=True, transform=transforms.ToTensor())\n",
    "\n",
    "# Create a subsample of the dataset\n",
    "subsample_size = 10000  # specify your subsample size here\n",
    "indices = torch.randperm(len(mnist))[:subsample_size]\n",
    "subsample = torch.utils.data.Subset(mnist, indices)\n",
    "\n",
    "# Split the subsample into train and test\n",
    "train_size = int(0.8 * len(subsample))  # 80% for training\n",
    "test_size = len(subsample) - train_size\n",
    "print(f\"Train size: {train_size}, Test size: {test_size}\")\n",
    "train_dataset, test_dataset = random_split(subsample, [train_size, test_size])\n",
    "\n",
    "# Create data loaders\n",
    "train_loader = DataLoader(train_dataset, batch_size=32)\n",
    "test_loader = DataLoader(test_dataset, batch_size=test_size)\n",
    "\n",
    "# Compute the average prevalence of each class in the training set\n",
    "train_labels = np.array([label for _, label in train_dataset])\n",
    "print(\"Unique labels in the training set: \", np.unique(train_labels))\n",
    "ref_distri = np.bincount(np.array(train_labels)) / len(train_labels)\n",
    "print(f\"Average prevalence of each class in the training set: {ref_distri}\")"
   ],
   "metadata": {
    "collapsed": false,
    "ExecuteTime": {
     "end_time": "2024-05-01T14:35:18.471326Z",
     "start_time": "2024-05-01T14:35:18.222362Z"
    }
   },
   "id": "9c9e65e588462219"
  },
  {
   "cell_type": "code",
   "execution_count": 25,
   "outputs": [],
   "source": [
    "# model class\n",
    "class CNN_DigitClassifier(nn.Module):\n",
    "  def __init__(self, num_classes=10):\n",
    "    super(CNN_DigitClassifier, self).__init__()\n",
    "    self.conv1 = nn.Conv2d(1, 10, kernel_size=5)\n",
    "    self.conv2 = nn.Conv2d(10, 20, kernel_size=5)\n",
    "    self.conv2_drop = nn.Dropout2d()\n",
    "    self.fc1 = nn.Linear(320, 50)\n",
    "    self.fc2 = nn.Linear(50, num_classes)\n",
    "\n",
    "  def forward(self, x):\n",
    "    x = F.relu(F.max_pool2d(self.conv1(x), 2))\n",
    "    x = F.relu(F.max_pool2d(self.conv2_drop(self.conv2(x)), 2))\n",
    "    x = x.view(-1, 320)\n",
    "    x = F.relu(self.fc1(x))\n",
    "    x = F.dropout(x, training=self.training)\n",
    "    x = self.fc2(x)\n",
    "    return x\n",
    "  \n",
    "  def predict_proba(self, x):\n",
    "    x = self.forward(x)\n",
    "    return F.softmax(x, dim=1)"
   ],
   "metadata": {
    "collapsed": false,
    "ExecuteTime": {
     "end_time": "2024-05-01T14:35:18.475726Z",
     "start_time": "2024-05-01T14:35:18.473320Z"
    }
   },
   "id": "4c79f1196f24e3aa"
  },
  {
   "cell_type": "code",
   "execution_count": 26,
   "outputs": [],
   "source": [
    "# Define temperature scaled softmax function and energy-based softmax function\n",
    "def temperature_scaled_softmax(logits, temperature=1.0):\n",
    "    return F.softmax(logits / temperature, dim=0)\n",
    "\n",
    "\n",
    "def energy_function(logits, temperature=1.0):\n",
    "    scaled_logits = logits / temperature\n",
    "    exp_terms = np.exp(scaled_logits)\n",
    "    sum_exp_terms = exp_terms.sum()\n",
    "    energy = -temperature * np.log(sum_exp_terms)\n",
    "    return energy"
   ],
   "metadata": {
    "collapsed": false,
    "ExecuteTime": {
     "end_time": "2024-05-01T14:35:18.483197Z",
     "start_time": "2024-05-01T14:35:18.476810Z"
    }
   },
   "id": "fc5b9feed32ee746"
  },
  {
   "cell_type": "markdown",
   "source": [
    "Train the model on the MNIST dataset K=5 folds. For each fold, we train the model on K-1 folds and validate on the remaining fold. On the remaining fold we compute the OOD measures. "
   ],
   "metadata": {
    "collapsed": false
   },
   "id": "ee4d98a1e37e5d9"
  },
  {
   "cell_type": "code",
   "execution_count": 27,
   "outputs": [
    {
     "name": "stdout",
     "output_type": "stream",
     "text": [
      "Fold 1/10\n",
      "Fold 2/10\n",
      "Fold 3/10\n",
      "Fold 4/10\n",
      "Fold 5/10\n",
      "Fold 6/10\n",
      "Fold 7/10\n",
      "Fold 8/10\n",
      "Fold 9/10\n",
      "Fold 10/10\n"
     ]
    }
   ],
   "source": [
    "from copy import deepcopy\n",
    "from utils.OOD_classification import tv_div\n",
    "from scipy.stats import entropy\n",
    "from scipy.stats import wasserstein_distance as wass_dist\n",
    "from scipy.stats import entropy as kl_div\n",
    "from scipy.spatial.distance import jensenshannon as js_dist\n",
    "\n",
    "num_epochs = 10\n",
    "\n",
    "alpha_dict = {0.1: [], 0.05: [], 0.01: []}\n",
    "th_dict = {'max_softmax': deepcopy(alpha_dict), 'ODIN': deepcopy(alpha_dict),\n",
    "           'energy': deepcopy(alpha_dict),\n",
    "           'entropy': deepcopy(alpha_dict), 'kl_div': deepcopy(alpha_dict), \n",
    "           'js_div': deepcopy(alpha_dict), 'wass_dist': deepcopy(alpha_dict)}\n",
    "\n",
    "# K folds loop\n",
    "K = 10\n",
    "for fold in range(K):\n",
    "    \n",
    "    print(f'Fold {fold+1}/{K}')\n",
    "        \n",
    "    # Initialize the model\n",
    "    model = CNN_DigitClassifier(num_classes=10)\n",
    "    \n",
    "    # Define loss function and optimizer\n",
    "    criterion = torch.nn.CrossEntropyLoss()\n",
    "    optimizer = torch.optim.Adam(model.parameters(), lr=0.001)\n",
    "    \n",
    "    # Split the subsample into train and test\n",
    "    train_size = int(0.8 * len(subsample))  # 80% for training\n",
    "    test_size = len(subsample) - train_size\n",
    "    train_dataset, test_dataset = random_split(subsample, [train_size, test_size])\n",
    "\n",
    "    # Create data loaders\n",
    "    train_loader = DataLoader(train_dataset, batch_size=32)\n",
    "    test_loader = DataLoader(test_dataset, batch_size=32)\n",
    "\n",
    "    # Training loop\n",
    "    for epoch in range(num_epochs):  # number of epochs\n",
    "        for images, labels in train_loader:            \n",
    "            # Forward pass\n",
    "            outputs = model(images)\n",
    "            loss = criterion(outputs, labels)\n",
    "\n",
    "            # Backward pass and optimization\n",
    "            optimizer.zero_grad()\n",
    "            loss.backward()\n",
    "            optimizer.step()\n",
    "    \n",
    "    # Initialize the statistics\n",
    "    max_softmax_, odin_, energy_ = [], [], []\n",
    "    entropy_, kl_div_, js_div_, wass_dist_ = [], [], [], []\n",
    "    \n",
    "    # Compute OOD measures\n",
    "    for images, labels in test_loader:\n",
    "        \n",
    "        # Forward pass\n",
    "        outputs = model(images)\n",
    "        probabilities = F.softmax(outputs, dim=1).detach().numpy()\n",
    "        \n",
    "        # Loop over each sample in the batch\n",
    "        for i in range(probabilities.shape[0]):\n",
    "            \n",
    "            # Flatten out the logits\n",
    "            out_i = outputs[i].detach().numpy()\n",
    "            temp_scaled_i = temperature_scaled_softmax(torch.tensor(out_i)).detach().numpy()\n",
    "\n",
    "            # Compute OOD measures\n",
    "            max_softmax_.append(np.max(probabilities[i]))\n",
    "            odin_.append(np.max(temp_scaled_i))\n",
    "            energy_.append(energy_function(out_i))\n",
    "            entropy_.append(entropy(probabilities[i], base=2))\n",
    "            kl_div_.append(kl_div(probabilities[i], ref_distri))\n",
    "            js_div_.append(js_dist(probabilities[i], ref_distri, base=2))\n",
    "            wass_dist_.append(wass_dist(probabilities[i], ref_distri))\n",
    "            # wass_dist_.append(wass_dist(u_weights=probabilities[i], v_weights=ref_distri,\n",
    "            #                             u_values=np.arange(10), v_values=np.arange(10)))\n",
    "        \n",
    "    max_softmax_, odin_, energy_ = np.stack(max_softmax_), np.stack(odin_), np.stack(energy_)\n",
    "    entropy_, kl_div_, js_div_, wass_dist_ = np.stack(entropy_), np.stack(kl_div_), np.stack(js_div_), np.stack(wass_dist_)\n",
    "    \n",
    "    # Compute the thresholds as the \\alpha quantile of the statistics and populate the th_dict\n",
    "    for alpha in [0.1, 0.05, 0.01]:\n",
    "        th_dict['max_softmax'][alpha].append(np.quantile(max_softmax_, alpha))\n",
    "        th_dict['ODIN'][alpha].append(np.quantile(odin_, alpha))\n",
    "        th_dict['energy'][alpha].append(np.quantile(energy_, 1-alpha))\n",
    "        th_dict['entropy'][alpha].append(np.quantile(entropy_, 1 - alpha))\n",
    "        th_dict['kl_div'][alpha].append(np.quantile(kl_div_, alpha))\n",
    "        th_dict['js_div'][alpha].append(np.quantile(js_div_, alpha))\n",
    "        th_dict['wass_dist'][alpha].append(np.quantile(wass_dist_, alpha))\n"
   ],
   "metadata": {
    "collapsed": false,
    "ExecuteTime": {
     "end_time": "2024-05-01T14:39:04.468666Z",
     "start_time": "2024-05-01T14:35:18.489109Z"
    }
   },
   "id": "f1272666d2bbf5de"
  },
  {
   "cell_type": "code",
   "execution_count": 28,
   "outputs": [
    {
     "name": "stdout",
     "output_type": "stream",
     "text": [
      "{'max_softmax': {0.1: 0.6430807560682297, 0.05: 0.5187933012843132, 0.01: 0.36076192051172257}, 'ODIN': {0.1: 0.6430807560682297, 0.05: 0.5187933012843132, 0.01: 0.36076192051172257}, 'energy': {0.1: -4.31900017261505, 0.05: -3.504056334495545, 0.01: -2.4787406897544866}, 'entropy': {0.1: 1.2669956600596601, 0.05: 1.6408242399598423, 0.01: 2.382397876369329}, 'kl_div': {0.1: 1.4369584076296504, 0.05: 1.1664271037543448, 0.01: 0.6429470467609982}, 'js_div': {0.1: 0.7119558249441547, 0.05: 0.6497978456941406, 0.01: 0.49382912989787475}, 'wass_dist': {0.1: 0.13844674790121334, 0.05: 0.125616199892377, 0.01: 0.09142819835990759}}\n"
     ]
    }
   ],
   "source": [
    "# After the K folds, compute the thresholds as the 0.95 quantile of the statistics across the folds\n",
    "for alpha in [0.1, 0.05, 0.01]:\n",
    "    th_dict['max_softmax'][alpha] = np.quantile(th_dict['max_softmax'][alpha], 0.5)\n",
    "    th_dict['ODIN'][alpha] = np.quantile(th_dict['ODIN'][alpha], 0.5)\n",
    "    th_dict['energy'][alpha] = np.quantile(th_dict['energy'][alpha], 0.5)\n",
    "    th_dict['entropy'][alpha] = np.quantile(th_dict['entropy'][alpha], 0.5)\n",
    "    th_dict['kl_div'][alpha] = np.quantile(th_dict['kl_div'][alpha], 0.5)\n",
    "    th_dict['js_div'][alpha] = np.quantile(th_dict['js_div'][alpha], 0.5)\n",
    "    th_dict['wass_dist'][alpha] = np.quantile(th_dict['wass_dist'][alpha], 0.5)\n",
    "    \n",
    "print(th_dict)"
   ],
   "metadata": {
    "collapsed": false,
    "ExecuteTime": {
     "end_time": "2024-05-01T14:39:04.475373Z",
     "start_time": "2024-05-01T14:39:04.470675Z"
    }
   },
   "id": "9a7e6059e0ede895"
  },
  {
   "cell_type": "markdown",
   "source": [
    "## 2) OOD as Fashion-MNIST\n",
    "\n",
    "We now upload as test dataset 50% of the existing MNIST dataset and 50% of the Fashion-MNIST dataset, and treat it as OOD. We will use the thresholds computed on the MNIST dataset to detect OOD samples in the Fashion-MNIST dataset."
   ],
   "metadata": {
    "collapsed": false
   },
   "id": "1b0090bdbdbc8e0f"
  },
  {
   "cell_type": "code",
   "execution_count": 29,
   "outputs": [
    {
     "name": "stdout",
     "output_type": "stream",
     "text": [
      "Number of OOD samples in the Fashion-MNIST subsample:  1000\n",
      "Number of ID samples in the MNIST subsample:  1000\n"
     ]
    }
   ],
   "source": [
    "# Set seed for reproducibility\n",
    "torch.manual_seed(13)\n",
    "\n",
    "# Load Fashion-MNIST dataset\n",
    "fashion_mnist = datasets.FashionMNIST(root='.', download=True, transform=transforms.ToTensor())\n",
    "\n",
    "# Create a subsample of the dataset\n",
    "subsample_size = 1000\n",
    "indices = torch.randperm(len(fashion_mnist))[:subsample_size]\n",
    "fash_mnist_subsample = torch.utils.data.Subset(fashion_mnist, indices)\n",
    "print(\"Number of OOD samples in the Fashion-MNIST subsample: \", len(fash_mnist_subsample))\n",
    "\n",
    "# Select 200 of the MNIST dataset as ID\n",
    "mnist = datasets.MNIST(root='.', download=True, transform=transforms.ToTensor())\n",
    "indices = torch.randperm(len(mnist))[:subsample_size]\n",
    "mnist_subsample = torch.utils.data.Subset(mnist, indices)\n",
    "print(\"Number of ID samples in the MNIST subsample: \", len(mnist_subsample))"
   ],
   "metadata": {
    "collapsed": false,
    "ExecuteTime": {
     "end_time": "2024-05-01T14:39:04.520549Z",
     "start_time": "2024-05-01T14:39:04.474618Z"
    }
   },
   "id": "8ecd18d257db92fc"
  },
  {
   "cell_type": "code",
   "execution_count": 30,
   "outputs": [
    {
     "data": {
      "text/plain": "<Figure size 500x500 with 6 Axes>",
      "image/png": "[encoded data removed]"
     },
     "metadata": {},
     "output_type": "display_data"
    }
   ],
   "source": [
    "# Plot in 3x3 grid the first 9 images of the MNIST subsample on one side and the Fashion-MNIST subsample on the other side\n",
    "import matplotlib.pyplot as plt\n",
    "\n",
    "fig, axs = plt.subplots(2, 3, figsize=(5, 5))\n",
    "# Reduce space in between subplots\n",
    "plt.subplots_adjust(wspace=0.05, hspace=-0.2)\n",
    "for j in range(3):\n",
    "    axs[0, j].imshow(mnist_subsample[j][0].squeeze(), cmap='gray')\n",
    "    axs[0, j].axis('off')\n",
    "# Title of the plot for MNIST samples\n",
    "axs[0, 1].set_title('MNIST samples (ID)')\n",
    "\n",
    "for j in range(3):\n",
    "    axs[1, j].imshow(fash_mnist_subsample[j][0].squeeze(), cmap='gray')\n",
    "    axs[1, j].axis('off')\n",
    "axs[1, 1].set_title('Fashion-MNIST samples (OOD)')\n",
    "# Save the figure\n",
    "plt.savefig('images/Fashion_MNIST_samples.pdf')"
   ],
   "metadata": {
    "collapsed": false,
    "ExecuteTime": {
     "end_time": "2024-05-01T14:39:04.618981Z",
     "start_time": "2024-05-01T14:39:04.528473Z"
    }
   },
   "id": "f5dc57433556fb75"
  },
  {
   "cell_type": "code",
   "execution_count": 31,
   "outputs": [],
   "source": [
    "# Now we create the test dataset by stacking together the MNIST and Fashion-MNIST subsamples and\n",
    "# create the corresponding labels: 0 for MNIST (ID) and 1 for Fashion-MNIST (OOD)\n",
    "test_dataset = torch.utils.data.ConcatDataset([mnist_subsample, fash_mnist_subsample])\n",
    "test_loader = DataLoader(test_dataset, batch_size=subsample_size*2)\n",
    "OOD_labels = np.concatenate([np.zeros(subsample_size), np.ones(subsample_size)])"
   ],
   "metadata": {
    "collapsed": false,
    "ExecuteTime": {
     "end_time": "2024-05-01T14:39:04.619661Z",
     "start_time": "2024-05-01T14:39:04.617912Z"
    }
   },
   "id": "fcfdc6ad8994e59d"
  },
  {
   "cell_type": "code",
   "execution_count": 32,
   "outputs": [
    {
     "name": "stdout",
     "output_type": "stream",
     "text": [
      "Average max probability on ID dataset: 0.9114812016487122\n",
      "Average max probability on OOD dataset: 0.4742242097854614\n"
     ]
    }
   ],
   "source": [
    "\n",
    "OOD_pred = {'max_softmax': [], 'ODIN': [], 'energy': [], \n",
    "            'entropy': [], 'kl_div': [], 'js_div': [], 'wass_dist': []}\n",
    "# Compute OOD measures\n",
    "for images, labels in test_loader:\n",
    "    \n",
    "    # Forward pass\n",
    "    outputs = model(images)\n",
    "    probabilities = F.softmax(outputs, dim=1).detach().numpy()\n",
    "    \n",
    "    # Print the average of max probabilities on the ID and OOD datasets\n",
    "    print(f'Average max probability on ID dataset: {np.max(probabilities[:subsample_size], axis=1).mean()}')\n",
    "    print(f'Average max probability on OOD dataset: {np.max(probabilities[subsample_size:], axis=1).mean()}')\n",
    "    \n",
    "    \n",
    "    # Loop over each sample in the batch\n",
    "    for i in range(probabilities.shape[0]):\n",
    "        \n",
    "        out_i = outputs[i].detach().numpy()\n",
    "        temp_scaled_i = temperature_scaled_softmax(torch.tensor(out_i)).detach().numpy()\n",
    "        \n",
    "        # Compute OOD measures\n",
    "        max_softmax_i = np.max(probabilities[i])\n",
    "        odin_i = np.max(temperature_scaled_softmax(torch.tensor(out_i)).detach().numpy())\n",
    "        energy_i = energy_function(out_i)\n",
    "        entropy_i = entropy(probabilities[i], base=2)\n",
    "        kl_div_i = kl_div(probabilities[i], ref_distri)\n",
    "        js_div_i = js_dist(probabilities[i], ref_distri, base=2)\n",
    "        wass_dist_i = wass_dist(probabilities[i], ref_distri)\n",
    "        # wass_dist_i = wass_dist(u_weights=probabilities[i], v_weights=ref_distri,\n",
    "        #                         u_values=np.arange(10), v_values=np.arange(10))\n",
    "        \n",
    "        # Append the predictions\n",
    "        OOD_pred['max_softmax'].append(max_softmax_i < th_dict['max_softmax'][0.05])\n",
    "        OOD_pred['ODIN'].append(odin_i < th_dict['ODIN'][0.05])\n",
    "        OOD_pred['energy'].append(energy_i > th_dict['energy'][0.05])\n",
    "        OOD_pred['entropy'].append(entropy_i > th_dict['entropy'][0.05])\n",
    "        OOD_pred['kl_div'].append(kl_div_i < th_dict['kl_div'][0.05])\n",
    "        OOD_pred['js_div'].append(js_div_i < th_dict['js_div'][0.05])\n",
    "        OOD_pred['wass_dist'].append(wass_dist_i < th_dict['wass_dist'][0.05])\n",
    "        \n",
    "# Convert to numpy array\n",
    "for key in OOD_pred.keys():\n",
    "    OOD_pred[key] = np.stack(OOD_pred[key])\n",
    "    # print(f'{key}: {OOD_pred[key]}')\n",
    "                    "
   ],
   "metadata": {
    "collapsed": false,
    "ExecuteTime": {
     "end_time": "2024-05-01T14:39:04.917460Z",
     "start_time": "2024-05-01T14:39:04.624040Z"
    }
   },
   "id": "18f918629a86b5d7"
  },
  {
   "cell_type": "code",
   "execution_count": 34,
   "outputs": [
    {
     "name": "stdout",
     "output_type": "stream",
     "text": [
      "max_softmax:\n",
      "AUROC: 0.7995\n",
      "TPR: 0.639\n",
      "FPR: 0.04\n",
      "\n",
      "ODIN:\n",
      "AUROC: 0.7995\n",
      "TPR: 0.639\n",
      "FPR: 0.04\n",
      "\n",
      "energy:\n",
      "AUROC: 0.886\n",
      "TPR: 0.844\n",
      "FPR: 0.072\n",
      "\n",
      "entropy:\n",
      "AUROC: 0.849\n",
      "TPR: 0.754\n",
      "FPR: 0.056\n",
      "\n",
      "kl_div:\n",
      "AUROC: 0.8455\n",
      "TPR: 0.748\n",
      "FPR: 0.057\n",
      "\n",
      "js_div:\n",
      "AUROC: 0.8685\n",
      "TPR: 0.793\n",
      "FPR: 0.056\n",
      "\n",
      "wass_dist:\n",
      "AUROC: 0.853\n",
      "TPR: 0.758\n",
      "FPR: 0.052\n"
     ]
    }
   ],
   "source": [
    "# Compute the AUROC, TPR, FPR for each OOD measure\n",
    "from sklearn.metrics import roc_auc_score, confusion_matrix\n",
    "\n",
    "for key in OOD_pred.keys():\n",
    "    print(f'{key}:')\n",
    "    print(f'AUROC: {roc_auc_score(OOD_labels, OOD_pred[key]).__round__(5)}')\n",
    "    tn, fp, fn, tp = confusion_matrix(OOD_labels, OOD_pred[key]).ravel()\n",
    "    print(f'TPR: {(tp / (tp + fn)).__round__(5)}')\n",
    "    print(f'FPR: {(fp / (fp + tn)).__round__(5)}')\n",
    "    print()"
   ],
   "metadata": {
    "collapsed": false,
    "ExecuteTime": {
     "end_time": "2024-05-01T14:42:48.381563Z",
     "start_time": "2024-05-01T14:42:48.368404Z"
    }
   },
   "id": "8a9dabe2069ce2e8"
  },
  {
   "cell_type": "markdown",
   "source": [
    "## Conclusion\n"
   ],
   "metadata": {
    "collapsed": false
   },
   "id": "ab6276c718776515"
  },
  {
   "cell_type": "markdown",
   "source": [],
   "metadata": {
    "collapsed": false
   },
   "id": "d9180ae884065e9f"
  }
 ],
 "metadata": {
  "kernelspec": {
   "display_name": "Python 3",
   "language": "python",
   "name": "python3"
  },
  "language_info": {
   "codemirror_mode": {
    "name": "ipython",
    "version": 2
   },
   "file_extension": ".py",
   "mimetype": "text/x-python",
   "name": "python",
   "nbconvert_exporter": "python",
   "pygments_lexer": "ipython2",
   "version": "2.7.6"
  }
 },
 "nbformat": 4,
 "nbformat_minor": 5
}
